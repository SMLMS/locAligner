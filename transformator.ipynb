{
 "cells": [
  {
   "cell_type": "markdown",
   "metadata": {},
   "source": [
    "# laTransform\n",
    "laTransform performes an affine transformation of a single molecule licalization microscopy dataset. It is part of the locAligner package.\n",
    "\n",
    "by\n",
    "\n",
    "Sebastian Malkusch\n",
    "\n",
    "2019-04-16\n",
    "\n",
    "single molecule biophysics,\n",
    "Goethe-University Frankfurt, Germany\n",
    "\n",
    "malkusch@chemie.uni-frankfurt.de\n",
    "\n",
    "www.smb.uni-frankfurt.de\n",
    "\n",
    "http://share.smb.uni-frankfurt.de\n",
    "    \n",
    "https://github.com/SMLMS/locAligner"
   ]
  },
  {
   "cell_type": "code",
   "execution_count": 1,
   "metadata": {},
   "outputs": [
    {
     "name": "stdout",
     "output_type": "stream",
     "text": [
      "laWidgets initialized\n"
     ]
    }
   ],
   "source": [
    "from locAligner.jupyter import laTransformWidgets\n",
    "from locAligner.data import regLocs\n",
    "widgets = laTransformWidgets.LaTransformWidgets()\n",
    "locs = regLocs.SMLM_regLocs()"
   ]
  },
  {
   "cell_type": "markdown",
   "metadata": {},
   "source": [
    "## Load dataset"
   ]
  },
  {
   "cell_type": "code",
   "execution_count": 2,
   "metadata": {},
   "outputs": [
    {
     "data": {
      "application/vnd.jupyter.widget-view+json": {
       "model_id": "d7bdfb4ed110424790ee61bdc88712e4",
       "version_major": 2,
       "version_minor": 0
      },
      "text/plain": [
       "Button(description='load Dataset', icon='check', style=ButtonStyle(), tooltip='Click me')"
      ]
     },
     "metadata": {},
     "output_type": "display_data"
    },
    {
     "name": "stdout",
     "output_type": "stream",
     "text": [
      "returning fileName\n",
      "Dataset loaded from: E:/Lehre/Praktikanten/Trung/beads/locs_right.csv\n"
     ]
    }
   ],
   "source": [
    "display(widgets.loadDataButton)\n",
    "\n",
    "def readDataSet(event):\n",
    "    widgets.clearOutput()\n",
    "    display(widgets.loadDataButton)\n",
    "    locs.browseFile()\n",
    "    locs.updateNames()\n",
    "    locs.importData()\n",
    "    print(\"Dataset loaded from: %s\" % (locs.fileName))\n",
    "    \n",
    "widgets.loadDataButton.on_click(readDataSet)"
   ]
  },
  {
   "cell_type": "markdown",
   "metadata": {},
   "source": [
    "## Load affine transformation matrix"
   ]
  },
  {
   "cell_type": "code",
   "execution_count": 3,
   "metadata": {},
   "outputs": [
    {
     "data": {
      "application/vnd.jupyter.widget-view+json": {
       "model_id": "d7bdfb4ed110424790ee61bdc88712e4",
       "version_major": 2,
       "version_minor": 0
      },
      "text/plain": [
       "Button(description='load Dataset', icon='check', style=ButtonStyle(), tooltip='Click me')"
      ]
     },
     "metadata": {},
     "output_type": "display_data"
    },
    {
     "name": "stdout",
     "output_type": "stream",
     "text": [
      "Matrix loaded from: E:/Lehre/Praktikanten/Trung/beads/locs_right_channel2_matrix.csv\n"
     ]
    }
   ],
   "source": [
    "display(widgets.loadMatrixButton)\n",
    "\n",
    "def loadMatrix(event):\n",
    "    widgets.clearOutput()\n",
    "    display(widgets.loadDataButton)\n",
    "    locs.loadMatrix()\n",
    "    \n",
    "widgets.loadMatrixButton.on_click(loadMatrix)"
   ]
  },
  {
   "cell_type": "markdown",
   "metadata": {},
   "source": [
    "## Transform dataset"
   ]
  },
  {
   "cell_type": "code",
   "execution_count": 4,
   "metadata": {},
   "outputs": [
    {
     "data": {
      "application/vnd.jupyter.widget-view+json": {
       "model_id": "7e9068e7105e450a8a21a7813b875121",
       "version_major": 2,
       "version_minor": 0
      },
      "text/plain": [
       "Text(value='registered', description='file prefix', placeholder='registered', style=DescriptionStyle(descripti…"
      ]
     },
     "metadata": {},
     "output_type": "display_data"
    },
    {
     "data": {
      "application/vnd.jupyter.widget-view+json": {
       "model_id": "2d83b6eb31724239b9657eca7e957f71",
       "version_major": 2,
       "version_minor": 0
      },
      "text/plain": [
       "Button(description='transform', icon='check', style=ButtonStyle(), tooltip='Click me')"
      ]
     },
     "metadata": {},
     "output_type": "display_data"
    },
    {
     "name": "stdout",
     "output_type": "stream",
     "text": [
      "Registered dataset written to: E:/Lehre/Praktikanten/Trung/beads\\locs_right_registered.txt\n"
     ]
    }
   ],
   "source": [
    "display(widgets.outFilePrefix, widgets.transformButton)\n",
    "\n",
    "def transform(event):\n",
    "    widgets.clearOutput()\n",
    "    display(widgets.outFilePrefix, widgets.transformButton)\n",
    "    locs.affineTransformation()\n",
    "    locs.saveDataFrame(widgets.outFilePrefix.value)\n",
    "    \n",
    "widgets.transformButton.on_click(transform)"
   ]
  }
 ],
 "metadata": {
  "kernelspec": {
   "display_name": "Python 3",
   "language": "python",
   "name": "python3"
  },
  "language_info": {
   "codemirror_mode": {
    "name": "ipython",
    "version": 3
   },
   "file_extension": ".py",
   "mimetype": "text/x-python",
   "name": "python",
   "nbconvert_exporter": "python",
   "pygments_lexer": "ipython3",
   "version": "3.6.8"
  }
 },
 "nbformat": 4,
 "nbformat_minor": 2
}
