{
 "cells": [
  {
   "cell_type": "markdown",
   "metadata": {},
   "source": [
    "# laTransform\n",
    "laTransform performes an affine transformation of a single molecule licalization microscopy dataset. It is part of the locAligner package.\n",
    "\n",
    "by\n",
    "\n",
    "Sebastian Malkusch\n",
    "\n",
    "2019-04-16\n",
    "\n",
    "single molecule biophysics,\n",
    "Goethe-University Frankfurt, Germany\n",
    "\n",
    "malkusch@chemie.uni-frankfurt.de\n",
    "\n",
    "www.smb.uni-frankfurt.de\n",
    "\n",
    "http://share.smb.uni-frankfurt.de\n",
    "    \n",
    "https://github.com/SMLMS/locAligner"
   ]
  },
  {
   "cell_type": "code",
   "execution_count": 1,
   "metadata": {},
   "outputs": [
    {
     "name": "stdout",
     "output_type": "stream",
     "text": [
      "laWidgets initialized\n"
     ]
    }
   ],
   "source": [
    "from locAligner.jupyter import laTransformWidgets\n",
    "from locAligner.data import regLocs\n",
    "widgets = laTransformWidgets.LaTransformWidgets()\n",
    "locs = regLocs.SMLM_regLocs()"
   ]
  },
  {
   "cell_type": "markdown",
   "metadata": {},
   "source": [
    "## Load dataset"
   ]
  },
  {
   "cell_type": "code",
   "execution_count": 2,
   "metadata": {},
   "outputs": [
    {
     "data": {
      "application/vnd.jupyter.widget-view+json": {
       "model_id": "606adf4ead66428dbb206020459d1e24",
       "version_major": 2,
       "version_minor": 0
      },
      "text/plain": [
       "BoundedFloatText(value=160.0, description='pixleSize [nm]', max=200.0, step=0.1, style=DescriptionStyle(descri…"
      ]
     },
     "metadata": {},
     "output_type": "display_data"
    },
    {
     "data": {
      "application/vnd.jupyter.widget-view+json": {
       "model_id": "736fefe8c7f448f7a11f507082ccd449",
       "version_major": 2,
       "version_minor": 0
      },
      "text/plain": [
       "Button(description='load Dataset', icon='check', style=ButtonStyle(), tooltip='Click me')"
      ]
     },
     "metadata": {},
     "output_type": "display_data"
    },
    {
     "name": "stdout",
     "output_type": "stream",
     "text": [
      "         x [nm]       y [nm]\n",
      "0  14655.410156  1552.372314\n",
      "1  14687.700195  1547.363281\n",
      "2  14696.900391  1537.219727\n",
      "3  14713.646484  1521.087402\n",
      "4  14716.166016  1533.052490\n",
      "returning fileName\n",
      "Dataset loaded from: E:/Lehre/Praktikanten/Trung/190321_5nMRef_15g_300ms_3MHz_5,3_EM50_2_MMStack_Pos0.ome_locs_picked3Origami.hdf5\n"
     ]
    }
   ],
   "source": [
    "display(widgets.pxlSize, widgets.loadDataButton)\n",
    "\n",
    "def readDataSet(event):\n",
    "    widgets.clearOutput()\n",
    "    display(widgets.pxlSize, widgets.loadDataButton)\n",
    "    locs.browseFile()\n",
    "    locs.updateNames()\n",
    "    locs.importData(widgets.pxlSize.value)\n",
    "    locs.viewData()\n",
    "    print(\"Dataset loaded from: %s\" % (locs.fileName))\n",
    "    \n",
    "widgets.loadDataButton.on_click(readDataSet)"
   ]
  },
  {
   "cell_type": "markdown",
   "metadata": {},
   "source": [
    "## Load affine transformation matrix"
   ]
  },
  {
   "cell_type": "code",
   "execution_count": 3,
   "metadata": {},
   "outputs": [
    {
     "data": {
      "application/vnd.jupyter.widget-view+json": {
       "model_id": "00d4dfffe1be4adabc2c8031f4c4efd6",
       "version_major": 2,
       "version_minor": 0
      },
      "text/plain": [
       "Button(description='load Matrix', icon='check', style=ButtonStyle(), tooltip='Click me')"
      ]
     },
     "metadata": {},
     "output_type": "display_data"
    }
   ],
   "source": [
    "display(widgets.loadMatrixButton)\n",
    "\n",
    "def loadMatrix(event):\n",
    "    widgets.clearOutput()\n",
    "    display(widgets.loadMatrixButton)\n",
    "    locs.loadMatrix()\n",
    "    \n",
    "widgets.loadMatrixButton.on_click(loadMatrix)"
   ]
  },
  {
   "cell_type": "markdown",
   "metadata": {},
   "source": [
    "## Transform dataset"
   ]
  },
  {
   "cell_type": "code",
   "execution_count": 4,
   "metadata": {},
   "outputs": [
    {
     "data": {
      "application/vnd.jupyter.widget-view+json": {
       "model_id": "0982475ee61940e68a342727dc375950",
       "version_major": 2,
       "version_minor": 0
      },
      "text/plain": [
       "Text(value='registered', description='file prefix', placeholder='registered', style=DescriptionStyle(descripti…"
      ]
     },
     "metadata": {},
     "output_type": "display_data"
    },
    {
     "data": {
      "application/vnd.jupyter.widget-view+json": {
       "model_id": "b0d3545f7f304eb8b73d9ae7f910cfab",
       "version_major": 2,
       "version_minor": 0
      },
      "text/plain": [
       "Button(description='transform', icon='check', style=ButtonStyle(), tooltip='Click me')"
      ]
     },
     "metadata": {},
     "output_type": "display_data"
    }
   ],
   "source": [
    "display(widgets.outFilePrefix, widgets.transformButton)\n",
    "\n",
    "def transform(event):\n",
    "    widgets.clearOutput()\n",
    "    display(widgets.outFilePrefix, widgets.transformButton)\n",
    "    locs.affineTransformation()\n",
    "    locs.saveDataFrame(widgets.outFilePrefix.value)\n",
    "    \n",
    "widgets.transformButton.on_click(transform)"
   ]
  }
 ],
 "metadata": {
  "kernelspec": {
   "display_name": "Python 3",
   "language": "python",
   "name": "python3"
  },
  "language_info": {
   "codemirror_mode": {
    "name": "ipython",
    "version": 3
   },
   "file_extension": ".py",
   "mimetype": "text/x-python",
   "name": "python",
   "nbconvert_exporter": "python",
   "pygments_lexer": "ipython3",
   "version": "3.6.8"
  }
 },
 "nbformat": 4,
 "nbformat_minor": 2
}
