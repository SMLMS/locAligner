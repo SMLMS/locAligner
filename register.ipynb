{
 "cells": [
  {
   "cell_type": "markdown",
   "metadata": {},
   "source": [
    "# laRegister\n",
    "laRegister creates an affine transfromation matrix from two spectrally separated datasets of fiducial marker molecules. It is part of the locAligner package.\n",
    "\n",
    "by\n",
    "\n",
    "Sebastian Malkusch\n",
    "\n",
    "2019-04-16\n",
    "\n",
    "single molecule biophysics,\n",
    "Goethe-University Frankfurt, Germany\n",
    "\n",
    "malkusch@chemie.uni-frankfurt.de\n",
    "\n",
    "www.smb.uni-frankfurt.de\n",
    "\n",
    "http://share.smb.uni-frankfurt.de\n",
    "    \n",
    "https://github.com/SMLMS/locAligner"
   ]
  },
  {
   "cell_type": "code",
   "execution_count": 1,
   "metadata": {},
   "outputs": [
    {
     "name": "stdout",
     "output_type": "stream",
     "text": [
      "laWidgets initialized\n"
     ]
    }
   ],
   "source": [
    "%matplotlib inline\n",
    "import matplotlib.pyplot as plt\n",
    "from locAligner.jupyter import laRegisterWidgets\n",
    "from locAligner.data import localizations\n",
    "from locAligner.data import fiducials\n",
    "\n",
    "widgets = laRegisterWidgets.LaRegisterWidgets()\n",
    "locDataSet = [localizations.SMLM_localizations(),\n",
    "              localizations.SMLM_localizations()]\n",
    "fiducialDataSet = fiducials.SMLM_fiducials()"
   ]
  },
  {
   "cell_type": "markdown",
   "metadata": {},
   "source": [
    "## Import Data\n",
    "Import the thunderSTORM localization files (.csv) for the ficucial localizations of the 1st and the 2nd channel."
   ]
  },
  {
   "cell_type": "code",
   "execution_count": 2,
   "metadata": {},
   "outputs": [
    {
     "data": {
      "application/vnd.jupyter.widget-view+json": {
       "model_id": "b6e77b3d6cd64ac9956e73115d97a8ab",
       "version_major": 2,
       "version_minor": 0
      },
      "text/plain": [
       "Button(description='load', icon='check', style=ButtonStyle(), tooltip='Click me')"
      ]
     },
     "metadata": {},
     "output_type": "display_data"
    },
    {
     "name": "stdout",
     "output_type": "stream",
     "text": [
      "returning fileName\n",
      "Channel 1 loaded from: E:/Lehre/Praktikanten/Trung/beads/locs_left.csv\n",
      "returning fileName\n",
      "Channel 2 loaded from: E:/Lehre/Praktikanten/Trung/beads/locs_right.csv\n",
      "returning fileName\n",
      "set fileName\n"
     ]
    }
   ],
   "source": [
    "display(widgets.loadButton)\n",
    "def loadFiducialLocalizations(event):\n",
    "    widgets.clearOutput()\n",
    "    display(widgets.loadButton)\n",
    "    n=1\n",
    "    for i in locDataSet:\n",
    "        i.browseFile()\n",
    "        i.updateNames()\n",
    "        i.importData()\n",
    "        print(\"Channel %i loaded from: %s\" % (n, i.fileName))\n",
    "        n += 1\n",
    "    fiducialDataSet.fileName = locDataSet[1].fileName\n",
    "    fiducialDataSet.updateNames()\n",
    "        \n",
    "widgets.loadButton.on_click(loadFiducialLocalizations)"
   ]
  },
  {
   "cell_type": "markdown",
   "metadata": {},
   "source": [
    "## Cluster analysis\n",
    "Perform a DBSCAN clsuter analysis based upon the characteristic DBSCAN parameters\n",
    "eps = maxmimal search radius\n",
    "min_samples = minimal number of samples within a cluster"
   ]
  },
  {
   "cell_type": "code",
   "execution_count": 3,
   "metadata": {},
   "outputs": [
    {
     "data": {
      "application/vnd.jupyter.widget-view+json": {
       "model_id": "532d5d75efa34f64b5529485d92d2800",
       "version_major": 2,
       "version_minor": 0
      },
      "text/plain": [
       "BoundedIntText(value=5, description='min_Samples', max=500, style=DescriptionStyle(description_width='initial'…"
      ]
     },
     "metadata": {},
     "output_type": "display_data"
    },
    {
     "data": {
      "application/vnd.jupyter.widget-view+json": {
       "model_id": "585cb3a9a48e4b6e961c76623ec5ce34",
       "version_major": 2,
       "version_minor": 0
      },
      "text/plain": [
       "BoundedFloatText(value=10.0, description='eps', max=1000.0, step=0.1, style=DescriptionStyle(description_width…"
      ]
     },
     "metadata": {},
     "output_type": "display_data"
    },
    {
     "data": {
      "application/vnd.jupyter.widget-view+json": {
       "model_id": "003861c986734fbb89357dac111c3225",
       "version_major": 2,
       "version_minor": 0
      },
      "text/plain": [
       "Button(description='DBSCAN', icon='check', style=ButtonStyle(), tooltip='Click me')"
      ]
     },
     "metadata": {},
     "output_type": "display_data"
    }
   ],
   "source": [
    "display(widgets.minSampleText, widgets.epsText, widgets.dbscanButton)\n",
    "\n",
    "def runDBSCAN(event):\n",
    "    widgets.clearOutput()\n",
    "    display(widgets.minSampleText, widgets.epsText, widgets.dbscanButton)\n",
    "    n=0\n",
    "    for i in locDataSet:\n",
    "        i.clusterLocalizations(widgets.epsText.value,\n",
    "                               widgets.minSampleText.value)\n",
    "    widgets.clusterSelector.options =list(locDataSet[int(widgets.channelSelector.value)-1].clusterArray())\n",
    "    fiducialDataSet.createFiducialDataSet(locDataSet[0].dataFrame, locDataSet[1].dataFrame)\n",
    "    \n",
    "widgets.dbscanButton.on_click(runDBSCAN)"
   ]
  },
  {
   "cell_type": "markdown",
   "metadata": {},
   "source": [
    "## Visualize cluster"
   ]
  },
  {
   "cell_type": "code",
   "execution_count": 4,
   "metadata": {},
   "outputs": [
    {
     "data": {
      "application/vnd.jupyter.widget-view+json": {
       "model_id": "8cc92bddb94c4384b7a56856ff8b94d1",
       "version_major": 2,
       "version_minor": 0
      },
      "text/plain": [
       "Select(description='channel', options=('1', '2'), rows=1, value='1')"
      ]
     },
     "metadata": {},
     "output_type": "display_data"
    },
    {
     "data": {
      "application/vnd.jupyter.widget-view+json": {
       "model_id": "7be9b2359741430e87504570a11da008",
       "version_major": 2,
       "version_minor": 0
      },
      "text/plain": [
       "Dropdown(description='cluster', options=(0, 1, 2, 3, 4, 5, 6, 7, 8, 9, 10, 11, 12, 13, 14, 15, 16, 17, 18, 19,…"
      ]
     },
     "metadata": {},
     "output_type": "display_data"
    },
    {
     "data": {
      "application/vnd.jupyter.widget-view+json": {
       "model_id": "d7b2ba4ee59a449badd7d64d161b73ff",
       "version_major": 2,
       "version_minor": 0
      },
      "text/plain": [
       "Button(description='plot cluster', icon='check', style=ButtonStyle(), tooltip='Click me')"
      ]
     },
     "metadata": {},
     "output_type": "display_data"
    },
    {
     "data": {
      "image/png": "[encoded data removed]",
      "text/plain": [
       "<Figure size 432x288 with 1 Axes>"
      ]
     },
     "metadata": {
      "needs_background": "light"
     },
     "output_type": "display_data"
    }
   ],
   "source": [
    "display(widgets.channelSelector, widgets.clusterSelector, widgets.visClusterButton)\n",
    "\n",
    "def updateCluster(event):\n",
    "    widgets.clusterSelector.options =list(locDataSet[int(widgets.channelSelector.value)-1].clusterArray())\n",
    "\n",
    "def visCluster(event):\n",
    "    widgets.clearOutput()\n",
    "    display(widgets.channelSelector, widgets.clusterSelector, widgets.visClusterButton)\n",
    "    locDataSet[int(widgets.channelSelector.value)-1].plotCluster(widgets.clusterSelector.value)\n",
    "\n",
    "widgets.channelSelector.observe(updateCluster)\n",
    "widgets.visClusterButton.on_click(visCluster)"
   ]
  },
  {
   "cell_type": "markdown",
   "metadata": {},
   "source": [
    "## Filter Fiducials"
   ]
  },
  {
   "cell_type": "code",
   "execution_count": 5,
   "metadata": {
    "scrolled": false
   },
   "outputs": [
    {
     "data": {
      "application/vnd.jupyter.widget-view+json": {
       "model_id": "2066fe2ad8ee484ca27107f92884dcd9",
       "version_major": 2,
       "version_minor": 0
      },
      "text/plain": [
       "HBox(children=(BoundedIntText(value=0, description='min x [nm]', max=45000, style=DescriptionStyle(description…"
      ]
     },
     "metadata": {},
     "output_type": "display_data"
    },
    {
     "data": {
      "application/vnd.jupyter.widget-view+json": {
       "model_id": "9771d0b638014056996c904513efea03",
       "version_major": 2,
       "version_minor": 0
      },
      "text/plain": [
       "HBox(children=(BoundedIntText(value=0, description='min y [nm]', max=81000, style=DescriptionStyle(description…"
      ]
     },
     "metadata": {},
     "output_type": "display_data"
    },
    {
     "data": {
      "application/vnd.jupyter.widget-view+json": {
       "model_id": "89dff9cd6b664f7f845d1b635625a807",
       "version_major": 2,
       "version_minor": 0
      },
      "text/plain": [
       "HBox(children=(BoundedFloatText(value=0.0, description='min std_x [nm]', max=1000.0, step=0.1, style=Descripti…"
      ]
     },
     "metadata": {},
     "output_type": "display_data"
    },
    {
     "data": {
      "application/vnd.jupyter.widget-view+json": {
       "model_id": "67840e5e9c184bbe9dfa59aaa66e2f8a",
       "version_major": 2,
       "version_minor": 0
      },
      "text/plain": [
       "HBox(children=(BoundedFloatText(value=0.0, description='min std_y [nm]', max=1000.0, step=0.1, style=Descripti…"
      ]
     },
     "metadata": {},
     "output_type": "display_data"
    },
    {
     "data": {
      "application/vnd.jupyter.widget-view+json": {
       "model_id": "a6a66e0340884a4b8efd3c1d9eb7a670",
       "version_major": 2,
       "version_minor": 0
      },
      "text/plain": [
       "HBox(children=(BoundedIntText(value=0, description='min int', max=10000, style=DescriptionStyle(description_wi…"
      ]
     },
     "metadata": {},
     "output_type": "display_data"
    },
    {
     "data": {
      "application/vnd.jupyter.widget-view+json": {
       "model_id": "530fb796bd5347578c2d111eabf4abc0",
       "version_major": 2,
       "version_minor": 0
      },
      "text/plain": [
       "HBox(children=(BoundedIntText(value=0, description='min area [nm²]', max=1000, style=DescriptionStyle(descript…"
      ]
     },
     "metadata": {},
     "output_type": "display_data"
    },
    {
     "data": {
      "application/vnd.jupyter.widget-view+json": {
       "model_id": "01363fe6148f4892a9a239c4484d103c",
       "version_major": 2,
       "version_minor": 0
      },
      "text/plain": [
       "Button(description='Filter Fiducials', icon='check', style=ButtonStyle(), tooltip='Click me')"
      ]
     },
     "metadata": {},
     "output_type": "display_data"
    }
   ],
   "source": [
    "display(widgets.x_filter,\n",
    "        widgets.y_filter,\n",
    "        widgets.stdX_filter,\n",
    "        widgets.stdY_filter,\n",
    "        widgets.int_filter,\n",
    "        widgets.area_filter,\n",
    "        widgets.filterButton)\n",
    "\n",
    "def filterFiducialDataSet(event):\n",
    "    fiducialDataSet.filterDataFrame(minX = widgets.min_x_filter_text.value,\n",
    "                                    maxX = widgets.max_x_filter_text.value,\n",
    "                                    minStdX = widgets.min_stdX_filter_text.value,\n",
    "                                    maxStdX = widgets.max_stdX_filter_text.value,\n",
    "                                    minY = widgets.min_y_filter_text.value,\n",
    "                                    maxY = widgets.max_y_filter_text.value,\n",
    "                                    minStdY = widgets.min_stdY_filter_text.value,\n",
    "                                    maxStdY = widgets.max_stdY_filter_text.value,\n",
    "                                    minInt = widgets.min_int_filter_text.value,\n",
    "                                    maxInt = widgets.max_int_filter_text.value,\n",
    "                                    minArea = widgets.min_area_filter_text.value,\n",
    "                                    maxArea = widgets.max_area_filter_text.value,\n",
    "                                   )\n",
    "    \n",
    "\n",
    "widgets.filterButton.on_click(filterFiducialDataSet)"
   ]
  },
  {
   "cell_type": "markdown",
   "metadata": {},
   "source": [
    "## Visualize Fudicials"
   ]
  },
  {
   "cell_type": "code",
   "execution_count": 6,
   "metadata": {},
   "outputs": [
    {
     "data": {
      "application/vnd.jupyter.widget-view+json": {
       "model_id": "1e208e9ec12a48b794babaf01ecf59b8",
       "version_major": 2,
       "version_minor": 0
      },
      "text/plain": [
       "Button(description='plot fiducials', icon='check', style=ButtonStyle(), tooltip='Click me')"
      ]
     },
     "metadata": {},
     "output_type": "display_data"
    },
    {
     "data": {
      "application/vnd.jupyter.widget-view+json": {
       "model_id": "79a80d80ee4c40c289b090b4fe3a831b",
       "version_major": 2,
       "version_minor": 0
      },
      "text/plain": [
       "HBox(children=(FloatSlider(value=-900.0, continuous_update=False, description='dy', max=2000.0, min=-2000.0, o…"
      ]
     },
     "metadata": {},
     "output_type": "display_data"
    },
    {
     "data": {
      "image/png": "[encoded data removed]",
      "text/plain": [
       "<Figure size 432x288 with 2 Axes>"
      ]
     },
     "metadata": {
      "needs_background": "light"
     },
     "output_type": "display_data"
    }
   ],
   "source": [
    "display(widgets.visFiducialButton, widgets.shift)\n",
    "\n",
    "def translate(event):\n",
    "    fiducialDataSet.dx = widgets.x_shift_float.value\n",
    "    fiducialDataSet.dy = widgets.y_shift_float.value\n",
    "    \n",
    "\n",
    "def visualizeFiducials(event):\n",
    "    widgets.clearOutput()\n",
    "    display(widgets.visFiducialButton, widgets.shift)\n",
    "    fiducialDataSet.trnaslateChannel2()\n",
    "    fiducialDataSet.plotFiducials()\n",
    "    \n",
    "\n",
    "widgets.visFiducialButton.on_click(visualizeFiducials)\n",
    "widgets.x_shift_float.observe(translate)\n",
    "widgets.y_shift_float.observe(translate)"
   ]
  },
  {
   "cell_type": "markdown",
   "metadata": {},
   "source": [
    "## Create affine transformation matrix"
   ]
  },
  {
   "cell_type": "code",
   "execution_count": 7,
   "metadata": {},
   "outputs": [
    {
     "data": {
      "application/vnd.jupyter.widget-view+json": {
       "model_id": "ea9d43650f6743389d18ed40d2b11d00",
       "version_major": 2,
       "version_minor": 0
      },
      "text/plain": [
       "BoundedIntText(value=250, description='distance threshold [nm]', max=1000, style=DescriptionStyle(description_…"
      ]
     },
     "metadata": {},
     "output_type": "display_data"
    },
    {
     "data": {
      "application/vnd.jupyter.widget-view+json": {
       "model_id": "a9ff8e99b9964684a5b1449c4074a612",
       "version_major": 2,
       "version_minor": 0
      },
      "text/plain": [
       "Button(description='create matrix', icon='check', style=ButtonStyle(), tooltip='Click me')"
      ]
     },
     "metadata": {},
     "output_type": "display_data"
    },
    {
     "data": {
      "image/png": "[encoded data removed]",
      "text/plain": [
       "<Figure size 432x288 with 1 Axes>"
      ]
     },
     "metadata": {
      "needs_background": "light"
     },
     "output_type": "display_data"
    },
    {
     "data": {
      "image/png": "[encoded data removed]",
      "text/plain": [
       "<Figure size 432x288 with 2 Axes>"
      ]
     },
     "metadata": {
      "needs_background": "light"
     },
     "output_type": "display_data"
    }
   ],
   "source": [
    "display(widgets.thr_dist, widgets.matrixButton)\n",
    "\n",
    "def createMatrix(event):\n",
    "    widgets.clearOutput()\n",
    "    display(widgets.thr_dist, widgets.matrixButton)\n",
    "    fiducialDataSet.sortFiducials()\n",
    "    fiducialDataSet.createAffineMatrix()\n",
    "    fiducialDataSet.affineTransformation()\n",
    "    \n",
    "widgets.matrixButton.on_click(createMatrix)"
   ]
  },
  {
   "cell_type": "markdown",
   "metadata": {},
   "source": [
    "## Save affine transformation matrix"
   ]
  },
  {
   "cell_type": "code",
   "execution_count": 8,
   "metadata": {},
   "outputs": [
    {
     "data": {
      "application/vnd.jupyter.widget-view+json": {
       "model_id": "d196a544cda7446481bedc602c80deec",
       "version_major": 2,
       "version_minor": 0
      },
      "text/plain": [
       "Text(value='channel2', description='file prefix', placeholder='channel2', style=DescriptionStyle(description_w…"
      ]
     },
     "metadata": {},
     "output_type": "display_data"
    },
    {
     "data": {
      "application/vnd.jupyter.widget-view+json": {
       "model_id": "b291ff7e81854c249e95912b72691c5b",
       "version_major": 2,
       "version_minor": 0
      },
      "text/plain": [
       "Button(description='save matrix', icon='check', style=ButtonStyle(), tooltip='Click me')"
      ]
     },
     "metadata": {},
     "output_type": "display_data"
    },
    {
     "name": "stdout",
     "output_type": "stream",
     "text": [
      "saved affine matrix to: E:/Lehre/Praktikanten/Trung/beads/locs_right_channel2_matrix.csv\n"
     ]
    }
   ],
   "source": [
    "display(widgets.outFilePrefix, widgets.saveButton)\n",
    "\n",
    "def saveMatrix(event):\n",
    "    widgets.clearOutput()\n",
    "    display(widgets.outFilePrefix, widgets.saveButton)\n",
    "    fiducialDataSet.saveAffineMatrix(widgets.outFilePrefix.value)\n",
    "    \n",
    "widgets.saveButton.on_click(saveMatrix)"
   ]
  }
 ],
 "metadata": {
  "kernelspec": {
   "display_name": "Python 3",
   "language": "python",
   "name": "python3"
  },
  "language_info": {
   "codemirror_mode": {
    "name": "ipython",
    "version": 3
   },
   "file_extension": ".py",
   "mimetype": "text/x-python",
   "name": "python",
   "nbconvert_exporter": "python",
   "pygments_lexer": "ipython3",
   "version": "3.6.8"
  }
 },
 "nbformat": 4,
 "nbformat_minor": 2
}
