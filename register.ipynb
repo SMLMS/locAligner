{
 "cells": [
  {
   "cell_type": "markdown",
   "metadata": {},
   "source": [
    "# laRegister\n",
    "laRegister creates an affine transfromation matrix from two spectrally separated datasets of fiducial marker molecules. It is part of the locAligner package.\n",
    "\n",
    "by\n",
    "\n",
    "Sebastian Malkusch\n",
    "\n",
    "2019-04-16\n",
    "\n",
    "single molecule biophysics,\n",
    "Goethe-University Frankfurt, Germany\n",
    "\n",
    "malkusch@chemie.uni-frankfurt.de\n",
    "\n",
    "www.smb.uni-frankfurt.de\n",
    "\n",
    "http://share.smb.uni-frankfurt.de\n",
    "    \n",
    "https://github.com/SMLMS/locAligner"
   ]
  },
  {
   "cell_type": "code",
   "execution_count": 1,
   "metadata": {},
   "outputs": [
    {
     "name": "stdout",
     "output_type": "stream",
     "text": [
      "laWidgets initialized\n"
     ]
    }
   ],
   "source": [
    "%matplotlib inline\n",
    "import matplotlib.pyplot as plt\n",
    "from locAligner.jupyter import laRegisterWidgets\n",
    "from locAligner.data import localizations\n",
    "from locAligner.data import fiducials\n",
    "\n",
    "widgets = laRegisterWidgets.LaRegisterWidgets()\n",
    "locDataSet = [localizations.SMLM_localizations(),\n",
    "              localizations.SMLM_localizations()]\n",
    "fiducialDataSet = fiducials.SMLM_fiducials()"
   ]
  },
  {
   "cell_type": "markdown",
   "metadata": {},
   "source": [
    "## Import Data\n",
    "Import the thunderSTORM localization files (.csv) for the ficucial localizations of the 1st and the 2nd channel."
   ]
  },
  {
   "cell_type": "code",
   "execution_count": 2,
   "metadata": {},
   "outputs": [
    {
     "data": {
      "application/vnd.jupyter.widget-view+json": {
       "model_id": "865f502984eb4a23874fad7786a785b6",
       "version_major": 2,
       "version_minor": 0
      },
      "text/plain": [
       "Button(description='load', icon='check', style=ButtonStyle(), tooltip='Click me')"
      ]
     },
     "metadata": {},
     "output_type": "display_data"
    },
    {
     "name": "stdout",
     "output_type": "stream",
     "text": [
      "returning fileName\n",
      "Channel 1 loaded from: E:/Lehre/Praktikanten/Trung/beads/locs_1_left.csv\n",
      "returning fileName\n",
      "Channel 2 loaded from: E:/Lehre/Praktikanten/Trung/beads/locs_1_right.csv\n",
      "returning fileName\n",
      "set fileName\n"
     ]
    }
   ],
   "source": [
    "display(widgets.loadButton)\n",
    "def loadFiducialLocalizations(event):\n",
    "    widgets.clearOutput()\n",
    "    display(widgets.loadButton)\n",
    "    n=1\n",
    "    for i in locDataSet:\n",
    "        i.browseFile()\n",
    "        i.updateNames()\n",
    "        i.importData()\n",
    "        print(\"Channel %i loaded from: %s\" % (n, i.fileName))\n",
    "        n += 1\n",
    "    fiducialDataSet.fileName = locDataSet[1].fileName\n",
    "    fiducialDataSet.updateNames()\n",
    "    fiducialDataSet.coordinateNames = locDataSet[1].coordinateNames\n",
    "        \n",
    "widgets.loadButton.on_click(loadFiducialLocalizations)"
   ]
  },
  {
   "cell_type": "markdown",
   "metadata": {},
   "source": [
    "## Cluster analysis\n",
    "Perform a DBSCAN clsuter analysis based upon the characteristic DBSCAN parameters\n",
    "eps = maxmimal search radius\n",
    "min_samples = minimal number of samples within a cluster"
   ]
  },
  {
   "cell_type": "code",
   "execution_count": 3,
   "metadata": {},
   "outputs": [
    {
     "data": {
      "application/vnd.jupyter.widget-view+json": {
       "model_id": "eb3751e51b9f4cf1beb36f903a8a82f3",
       "version_major": 2,
       "version_minor": 0
      },
      "text/plain": [
       "BoundedIntText(value=5, description='min_Samples', max=500, style=DescriptionStyle(description_width='initial'…"
      ]
     },
     "metadata": {},
     "output_type": "display_data"
    },
    {
     "data": {
      "application/vnd.jupyter.widget-view+json": {
       "model_id": "d492d9aff6534a79aabc12748c2e3ef3",
       "version_major": 2,
       "version_minor": 0
      },
      "text/plain": [
       "BoundedFloatText(value=20.0, description='eps', max=1000.0, step=0.1, style=DescriptionStyle(description_width…"
      ]
     },
     "metadata": {},
     "output_type": "display_data"
    },
    {
     "data": {
      "application/vnd.jupyter.widget-view+json": {
       "model_id": "e578b7aee9574aa6874216481c70cc3c",
       "version_major": 2,
       "version_minor": 0
      },
      "text/plain": [
       "Button(description='DBSCAN', icon='check', style=ButtonStyle(), tooltip='Click me')"
      ]
     },
     "metadata": {},
     "output_type": "display_data"
    }
   ],
   "source": [
    "display(widgets.minSampleText, widgets.epsText, widgets.dbscanButton)\n",
    "\n",
    "def runDBSCAN(event):\n",
    "    widgets.clearOutput()\n",
    "    display(widgets.minSampleText, widgets.epsText, widgets.dbscanButton)\n",
    "    n=0\n",
    "    for i in locDataSet:\n",
    "        i.clusterLocalizations(widgets.epsText.value,\n",
    "                               widgets.minSampleText.value)\n",
    "    widgets.clusterSelector.options =list(locDataSet[int(widgets.channelSelector.value)-1].clusterArray())\n",
    "    fiducialDataSet.createFiducialDataSet(locDataSet[0].dataFrame, locDataSet[1].dataFrame)\n",
    "    \n",
    "widgets.dbscanButton.on_click(runDBSCAN)"
   ]
  },
  {
   "cell_type": "markdown",
   "metadata": {},
   "source": [
    "## Visualize cluster"
   ]
  },
  {
   "cell_type": "code",
   "execution_count": 4,
   "metadata": {},
   "outputs": [
    {
     "data": {
      "application/vnd.jupyter.widget-view+json": {
       "model_id": "d90b9d55511e4982a325d732e7b99b9b",
       "version_major": 2,
       "version_minor": 0
      },
      "text/plain": [
       "Select(description='channel', options=('1', '2'), rows=1, value='1')"
      ]
     },
     "metadata": {},
     "output_type": "display_data"
    },
    {
     "data": {
      "application/vnd.jupyter.widget-view+json": {
       "model_id": "9909b0aef5384379ba028e3b41ff5b47",
       "version_major": 2,
       "version_minor": 0
      },
      "text/plain": [
       "Dropdown(description='cluster', options=(0, 1, 2, 3, 4, 5, 6, 7, 8, 9, 10, 11, 12, 13, 14, 15, 16, 17, 18, 19,…"
      ]
     },
     "metadata": {},
     "output_type": "display_data"
    },
    {
     "data": {
      "application/vnd.jupyter.widget-view+json": {
       "model_id": "f4d45de1659f4e63b5740459bd4bc053",
       "version_major": 2,
       "version_minor": 0
      },
      "text/plain": [
       "Button(description='plot cluster', icon='check', style=ButtonStyle(), tooltip='Click me')"
      ]
     },
     "metadata": {},
     "output_type": "display_data"
    },
    {
     "data": {
      "image/png": "[encoded data removed]",
      "text/plain": [
       "<Figure size 432x288 with 2 Axes>"
      ]
     },
     "metadata": {
      "needs_background": "light"
     },
     "output_type": "display_data"
    }
   ],
   "source": [
    "display(widgets.channelSelector, widgets.clusterSelector, widgets.visClusterButton)\n",
    "\n",
    "def updateCluster(event):\n",
    "    widgets.clusterSelector.options =list(locDataSet[int(widgets.channelSelector.value)-1].clusterArray())\n",
    "\n",
    "def visCluster(event):\n",
    "    widgets.clearOutput()\n",
    "    display(widgets.channelSelector, widgets.clusterSelector, widgets.visClusterButton)\n",
    "    locDataSet[int(widgets.channelSelector.value)-1].plotCluster(widgets.clusterSelector.value)\n",
    "\n",
    "widgets.channelSelector.observe(updateCluster)\n",
    "widgets.visClusterButton.on_click(visCluster)"
   ]
  },
  {
   "cell_type": "markdown",
   "metadata": {},
   "source": [
    "## Filter Fiducials"
   ]
  },
  {
   "cell_type": "code",
   "execution_count": 5,
   "metadata": {
    "scrolled": false
   },
   "outputs": [
    {
     "data": {
      "application/vnd.jupyter.widget-view+json": {
       "model_id": "64b8c43fbbe0400d9646c7d18b561ef0",
       "version_major": 2,
       "version_minor": 0
      },
      "text/plain": [
       "HBox(children=(BoundedIntText(value=0, description='min x [nm]', max=45000, style=DescriptionStyle(description…"
      ]
     },
     "metadata": {},
     "output_type": "display_data"
    },
    {
     "data": {
      "application/vnd.jupyter.widget-view+json": {
       "model_id": "e436f013a77140749fdbd1252cdc8044",
       "version_major": 2,
       "version_minor": 0
      },
      "text/plain": [
       "HBox(children=(BoundedIntText(value=0, description='min y [nm]', max=81000, style=DescriptionStyle(description…"
      ]
     },
     "metadata": {},
     "output_type": "display_data"
    },
    {
     "data": {
      "application/vnd.jupyter.widget-view+json": {
       "model_id": "1b31464eb4b744d684001ebb0a0a4480",
       "version_major": 2,
       "version_minor": 0
      },
      "text/plain": [
       "HBox(children=(BoundedFloatText(value=0.0, description='min std_x [nm]', max=1000.0, step=0.1, style=Descripti…"
      ]
     },
     "metadata": {},
     "output_type": "display_data"
    },
    {
     "data": {
      "application/vnd.jupyter.widget-view+json": {
       "model_id": "1f748715bb57402aaab6fefa589ea480",
       "version_major": 2,
       "version_minor": 0
      },
      "text/plain": [
       "HBox(children=(BoundedFloatText(value=0.0, description='min std_y [nm]', max=1000.0, step=0.1, style=Descripti…"
      ]
     },
     "metadata": {},
     "output_type": "display_data"
    },
    {
     "data": {
      "application/vnd.jupyter.widget-view+json": {
       "model_id": "5084f79828754d628925dccf55c808a9",
       "version_major": 2,
       "version_minor": 0
      },
      "text/plain": [
       "HBox(children=(BoundedIntText(value=0, description='min int', max=10000, style=DescriptionStyle(description_wi…"
      ]
     },
     "metadata": {},
     "output_type": "display_data"
    },
    {
     "data": {
      "application/vnd.jupyter.widget-view+json": {
       "model_id": "c954fa48e24541afabb347217a305b95",
       "version_major": 2,
       "version_minor": 0
      },
      "text/plain": [
       "HBox(children=(BoundedIntText(value=0, description='min area [nm²]', max=1000, style=DescriptionStyle(descript…"
      ]
     },
     "metadata": {},
     "output_type": "display_data"
    },
    {
     "data": {
      "application/vnd.jupyter.widget-view+json": {
       "model_id": "3cf80ba2d71f44c6a3297209d6b555f4",
       "version_major": 2,
       "version_minor": 0
      },
      "text/plain": [
       "Button(description='Filter Fiducials', icon='check', style=ButtonStyle(), tooltip='Click me')"
      ]
     },
     "metadata": {},
     "output_type": "display_data"
    }
   ],
   "source": [
    "display(widgets.x_filter,\n",
    "        widgets.y_filter,\n",
    "        widgets.stdX_filter,\n",
    "        widgets.stdY_filter,\n",
    "        widgets.int_filter,\n",
    "        widgets.area_filter,\n",
    "        widgets.filterButton)\n",
    "\n",
    "def filterFiducialDataSet(event):\n",
    "    fiducialDataSet.filterDataFrame(minX = widgets.min_x_filter_text.value,\n",
    "                                    maxX = widgets.max_x_filter_text.value,\n",
    "                                    minStdX = widgets.min_stdX_filter_text.value,\n",
    "                                    maxStdX = widgets.max_stdX_filter_text.value,\n",
    "                                    minY = widgets.min_y_filter_text.value,\n",
    "                                    maxY = widgets.max_y_filter_text.value,\n",
    "                                    minStdY = widgets.min_stdY_filter_text.value,\n",
    "                                    maxStdY = widgets.max_stdY_filter_text.value,\n",
    "                                    minInt = widgets.min_int_filter_text.value,\n",
    "                                    maxInt = widgets.max_int_filter_text.value,\n",
    "                                    minArea = widgets.min_area_filter_text.value,\n",
    "                                    maxArea = widgets.max_area_filter_text.value,\n",
    "                                   )\n",
    "    \n",
    "\n",
    "widgets.filterButton.on_click(filterFiducialDataSet)"
   ]
  },
  {
   "cell_type": "markdown",
   "metadata": {},
   "source": [
    "## Visualize Fudicials"
   ]
  },
  {
   "cell_type": "code",
   "execution_count": 6,
   "metadata": {},
   "outputs": [
    {
     "data": {
      "application/vnd.jupyter.widget-view+json": {
       "model_id": "a5ab249328e34acfa8de4b997edd9b4e",
       "version_major": 2,
       "version_minor": 0
      },
      "text/plain": [
       "Button(description='plot fiducials', icon='check', style=ButtonStyle(), tooltip='Click me')"
      ]
     },
     "metadata": {},
     "output_type": "display_data"
    },
    {
     "data": {
      "application/vnd.jupyter.widget-view+json": {
       "model_id": "639b28ae7dd64d25acf7714b873435dc",
       "version_major": 2,
       "version_minor": 0
      },
      "text/plain": [
       "HBox(children=(FloatSlider(value=-779.0, continuous_update=False, description='dy', max=2000.0, min=-2000.0, o…"
      ]
     },
     "metadata": {},
     "output_type": "display_data"
    },
    {
     "data": {
      "image/png": "[encoded data removed]",
      "text/plain": [
       "<Figure size 432x288 with 2 Axes>"
      ]
     },
     "metadata": {
      "needs_background": "light"
     },
     "output_type": "display_data"
    }
   ],
   "source": [
    "display(widgets.visFiducialButton, widgets.shift)\n",
    "\n",
    "def translate(event):\n",
    "    fiducialDataSet.dx = widgets.x_shift_float.value\n",
    "    fiducialDataSet.dy = widgets.y_shift_float.value\n",
    "    \n",
    "\n",
    "def visualizeFiducials(event):\n",
    "    widgets.clearOutput()\n",
    "    display(widgets.visFiducialButton, widgets.shift)\n",
    "    fiducialDataSet.trnaslateChannel2()\n",
    "    fiducialDataSet.plotFiducials()\n",
    "    \n",
    "\n",
    "widgets.visFiducialButton.on_click(visualizeFiducials)\n",
    "widgets.x_shift_float.observe(translate)\n",
    "widgets.y_shift_float.observe(translate)"
   ]
  },
  {
   "cell_type": "markdown",
   "metadata": {},
   "source": [
    "## Create affine transformation matrix"
   ]
  },
  {
   "cell_type": "code",
   "execution_count": 7,
   "metadata": {},
   "outputs": [
    {
     "data": {
      "application/vnd.jupyter.widget-view+json": {
       "model_id": "eb1e10c674e44f74a1de482965ae4eac",
       "version_major": 2,
       "version_minor": 0
      },
      "text/plain": [
       "BoundedIntText(value=250, description='distance threshold [nm]', max=1000, style=DescriptionStyle(description_…"
      ]
     },
     "metadata": {},
     "output_type": "display_data"
    },
    {
     "data": {
      "application/vnd.jupyter.widget-view+json": {
       "model_id": "a22e821dd8844412a54e3372c9c2d740",
       "version_major": 2,
       "version_minor": 0
      },
      "text/plain": [
       "Button(description='create matrix', icon='check', style=ButtonStyle(), tooltip='Click me')"
      ]
     },
     "metadata": {},
     "output_type": "display_data"
    },
    {
     "name": "stdout",
     "output_type": "stream",
     "text": [
      "   cl_idx        x_mean      x_std        y_mean      y_std  intensity  \\\n",
      "0     5.0   5514.978000  28.543359  38087.501000  12.725148      100.0   \n",
      "1     9.0  12650.271000  28.937457  19392.170000  12.431814      100.0   \n",
      "2    10.0  14342.882000  26.960837  38374.616000  12.990422      100.0   \n",
      "3    13.0  25963.295000  29.926504  36695.366000  14.559937      100.0   \n",
      "4    15.0  30838.421154  18.893586  10175.632692  18.049591       52.0   \n",
      "\n",
      "         area  channel  \n",
      "0  277.298372      2.0  \n",
      "1  244.463035      2.0  \n",
      "2  251.816533      2.0  \n",
      "3  258.905785      2.0  \n",
      "4  246.725901      2.0  \n",
      "[14278.266 25907.366  5463.254 36159.35  31754.438]\n",
      "[14342.882 25963.295  5514.978 36293.235 31923.335]\n"
     ]
    },
    {
     "data": {
      "image/png": "[encoded data removed]",
      "text/plain": [
       "<Figure size 432x288 with 1 Axes>"
      ]
     },
     "metadata": {
      "needs_background": "light"
     },
     "output_type": "display_data"
    },
    {
     "data": {
      "image/png": "[encoded data removed]",
      "text/plain": [
       "<Figure size 432x288 with 2 Axes>"
      ]
     },
     "metadata": {
      "needs_background": "light"
     },
     "output_type": "display_data"
    }
   ],
   "source": [
    "display(widgets.thr_dist, widgets.matrixButton)\n",
    "\n",
    "def createMatrix(event):\n",
    "    widgets.clearOutput()\n",
    "    display(widgets.thr_dist, widgets.matrixButton)\n",
    "    fiducialDataSet.sortFiducials(widgets.thr_dist.value)\n",
    "    fiducialDataSet.createAffineMatrix()\n",
    "    fiducialDataSet.affineTransformation()\n",
    "    \n",
    "widgets.matrixButton.on_click(createMatrix)"
   ]
  },
  {
   "cell_type": "markdown",
   "metadata": {},
   "source": [
    "## Save affine transformation matrix"
   ]
  },
  {
   "cell_type": "code",
   "execution_count": 8,
   "metadata": {},
   "outputs": [
    {
     "data": {
      "application/vnd.jupyter.widget-view+json": {
       "model_id": "e15034742e0745778a24249c5a685c28",
       "version_major": 2,
       "version_minor": 0
      },
      "text/plain": [
       "Text(value='channel2', description='file prefix', placeholder='channel2', style=DescriptionStyle(description_w…"
      ]
     },
     "metadata": {},
     "output_type": "display_data"
    },
    {
     "data": {
      "application/vnd.jupyter.widget-view+json": {
       "model_id": "e2f87acc981949419f8d2ed3a5ca1060",
       "version_major": 2,
       "version_minor": 0
      },
      "text/plain": [
       "Button(description='save matrix', icon='check', style=ButtonStyle(), tooltip='Click me')"
      ]
     },
     "metadata": {},
     "output_type": "display_data"
    }
   ],
   "source": [
    "display(widgets.outFilePrefix, widgets.saveButton)\n",
    "\n",
    "def saveMatrix(event):\n",
    "    widgets.clearOutput()\n",
    "    display(widgets.outFilePrefix, widgets.saveButton)\n",
    "    fiducialDataSet.saveAffineMatrix(widgets.outFilePrefix.value)\n",
    "    \n",
    "widgets.saveButton.on_click(saveMatrix)"
   ]
  }
 ],
 "metadata": {
  "kernelspec": {
   "display_name": "Python 3",
   "language": "python",
   "name": "python3"
  },
  "language_info": {
   "codemirror_mode": {
    "name": "ipython",
    "version": 3
   },
   "file_extension": ".py",
   "mimetype": "text/x-python",
   "name": "python",
   "nbconvert_exporter": "python",
   "pygments_lexer": "ipython3",
   "version": "3.6.8"
  }
 },
 "nbformat": 4,
 "nbformat_minor": 2
}
